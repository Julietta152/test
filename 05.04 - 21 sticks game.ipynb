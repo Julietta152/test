{
 "cells": [
  {
   "cell_type": "markdown",
   "metadata": {
    "collapsed": true,
    "pycharm": {
     "name": "#%% md\n"
    }
   },
   "source": [
    "___\n",
    "\n",
    "<center><img src='../../BlueSoft_logo.png' width=\"500\" height=\"208\"/></center>\n",
    "\n",
    "___"
   ]
  },
  {
   "cell_type": "markdown",
   "metadata": {},
   "source": [
    "# 21 sticks game challenge\n",
    "\n",
    "In this game, there are 21 sticks lying in a pile. Players take turns taking `1`, `2`, or `3` sticks. The last person to take a stick wins. For example:\n",
    "\n",
    "```\n",
    "21 sticks in the pile\n",
    "\n",
    "Bot     takes 1   -->  20 sticks left\n",
    "Jimmy   takes 1   -->  19 sticks left\n",
    "Bot     takes 3   -->  16 sticks left\n",
    "Jimmy   takes 3   -->  13 sticks left\n",
    "Bot     takes 1   -->  12 sticks left\n",
    "Jimmy   takes 2   -->  10 sticks left\n",
    "Bot     takes 1   -->   9 sticks left\n",
    "Jimmy   takes 3   -->   6 sticks left\n",
    "Bot     takes 2   -->   4 sticks left\n",
    "Jimmy   takes 1   -->   3 sticks left\n",
    "Bot     takes 3   -->       Bot wins!\n",
    "```\n",
    "\n",
    "Your task is to create a bot (computer player) that will always win the game. Your bot will always go first.\n",
    "\n",
    "*Note: The input will always be valid (a positive integer).*\n",
    "\n",
    "*Hint: https://www.youtube.com/watch?v=9KABcmczPdg*"
   ]
  },
  {
   "cell_type": "code",
   "execution_count": 9,
   "metadata": {
    "pycharm": {
     "name": "#%%\n"
    }
   },
   "outputs": [
    {
     "name": "stdout",
     "output_type": "stream",
     "text": [
      "Bot takes 2 ---> 19 sticks left\n",
      "Jimmy takes 1 ---> 18 sticks left\n",
      "Bot takes 1 ---> 17 sticks left\n",
      "Jimmy takes 1 ---> 16 sticks left\n",
      "Bot takes 3 ---> 13 sticks left\n",
      "Jimmy takes 3 ---> 10 sticks left\n",
      "Bot takes 2 ---> 8 sticks left\n",
      "Jimmy takes 1 ---> 7 sticks left\n",
      "Bot takes 3 ---> 4 sticks left\n",
      "Jimmy takes 1 ---> 3 sticks left\n",
      "Bot takes 3 ---> Bot wins!\n"
     ]
    }
   ],
   "source": [
    "# Code here\n",
    "\n",
    "import random\n",
    "\n",
    "x = 21;\n",
    "player = 'Bot'\n",
    "while(x > 0):\n",
    "    r = random.randint(1, 3)\n",
    "    if(x < r):\n",
    "        r = x\n",
    "    x -= r\n",
    "    if(x > 0):\n",
    "        print(\"{} takes {} ---> {} sticks left\".format(player, r, x))\n",
    "    else:\n",
    "        print(\"{} takes {} ---> {} wins!\".format(player, r, player))\n",
    "    if(player == 'Jimmy'):\n",
    "        player = 'Bot'\n",
    "    else:\n",
    "        player = 'Jimmy'"
   ]
  },
  {
   "cell_type": "code",
   "execution_count": null,
   "metadata": {},
   "outputs": [],
   "source": []
  }
 ],
 "metadata": {
  "kernelspec": {
   "display_name": "Python 3 (ipykernel)",
   "language": "python",
   "name": "python3"
  },
  "language_info": {
   "codemirror_mode": {
    "name": "ipython",
    "version": 3
   },
   "file_extension": ".py",
   "mimetype": "text/x-python",
   "name": "python",
   "nbconvert_exporter": "python",
   "pygments_lexer": "ipython3",
   "version": "3.9.7"
  }
 },
 "nbformat": 4,
 "nbformat_minor": 1
}
